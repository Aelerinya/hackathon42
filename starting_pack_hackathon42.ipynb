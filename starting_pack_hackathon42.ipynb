{
 "cells": [
  {
   "cell_type": "markdown",
   "metadata": {},
   "source": [
    "\n",
    "[![Open In Colab](https://colab.research.google.com/assets/colab-badge.svg)](https://colab.research.google.com/github/EffiSciencesResearch/hackathon42/blob/main/starting_pack_hackathon42.ipynb)\n"
   ]
  },
  {
   "cell_type": "code",
   "execution_count": null,
   "metadata": {},
   "outputs": [],
   "source": [
    "# This can take a moment\n",
    "# Please install git large file system before cloning\n",
    "!git lfs install\n",
    "!git clone https://github.com/EffiSciencesResearch/hackathon42.git\n",
    "\n",
    "# If the repo is private\n",
    "# !git clone https://yourToken@github.com/EffiSciencesResearch/hackathon42.git"
   ]
  },
  {
   "cell_type": "code",
   "execution_count": 18,
   "metadata": {},
   "outputs": [
    {
     "name": "stdout",
     "output_type": "stream",
     "text": [
      "[Errno 2] No such file or directory: '/content/hackathon42'\n",
      "/Users/raph/Desktop/Perso/effisc/hackathon42_subject\n",
      "['00_toy_dataset', '01_mnist_cc', '02_mnist_constant_image', '03_mnist_constant_image_random_row', '04_mnist_uniform_color_random_row', '05_mnist_uniform_color_low_mix_rate', '06_mnist_sum', '07_mnist_sum_bis', '08_mnist_sum_noise_level', '12_mnist_mysterious', '13_mnist_mysterious', '14_mnist_mysterious', '14_mnist_cc_no']\n",
      "datasets/01_mnist_cc\n"
     ]
    }
   ],
   "source": [
    "%cd /content/hackathon42\n",
    "\n",
    "import numpy as np\n",
    "from tqdm.notebook import tqdm\n",
    "import os\n",
    "from os.path import join\n",
    "from sklearn.model_selection import train_test_split\n",
    "import torch\n",
    "import torch.nn as nn\n",
    "import torch.nn.functional as F\n",
    "\n",
    "use_cuda = False\n",
    "device = torch.device(\"cuda\" if use_cuda else \"cpu\")\n",
    "\n",
    "datasets_names = sorted(os.listdir(path='datasets'), key=lambda name: int(name[:2]))\n",
    "print(datasets_names)\n",
    "\n",
    "# You can choose the dataset here by modifying the brackets\n",
    "dataset_name = join('datasets', datasets_names[1])\n",
    "print(dataset_name)\n",
    "\n",
    "X_labeled = np.load(join(dataset_name, \"X_labeled.npy\"))\n",
    "y_labeled = np.load(join(dataset_name, \"y_labeled.npy\"))\n",
    "X_unlabeled = np.load(join(dataset_name, \"X_unlabeled.npy\"))\n",
    "X_val = np.load(join(dataset_name, \"X_val.npy\"))\n",
    "\n",
    "\n",
    "X_train, X_test, y_train, y_test = train_test_split(X_labeled, y_labeled)\n",
    "\n",
    "\n",
    "X_train = torch.tensor(X_train, device=device).float()\n",
    "X_test = torch.tensor(X_test, device=device).float()\n",
    "y_train = torch.tensor(y_train, device=device)\n",
    "y_test = torch.tensor(y_test, device=device)"
   ]
  },
  {
   "cell_type": "code",
   "execution_count": 4,
   "metadata": {},
   "outputs": [],
   "source": [
    "class LeNet(nn.Module):\n",
    "    def __init__(self, n_classes=10):\n",
    "        super().__init__()       \n",
    "        \n",
    "        self.conv1 = nn.Conv2d(1, 16, 5)\n",
    "        self.conv2 = nn.Conv2d(16, 32, 5)\n",
    "        self.fc1 = nn.Linear(32*4*11, 100)\n",
    "        self.fc2 = nn.Linear(100, 10)\n",
    "        self.flat = nn.Flatten()\n",
    "        \n",
    "    def forward(self, x):\n",
    "        \n",
    "        # Max pooling over a (2, 2) window\n",
    "        out = F.max_pool2d(F.relu(self.conv1(x)), (2, 2))\n",
    "        out = F.max_pool2d(F.relu(self.conv2(out)), 2)\n",
    "        out = self.flat(out)\n",
    "        out = F.relu(self.fc1(out))\n",
    "        pred = self.fc2(out)\n",
    "        \n",
    "        return pred\n",
    "\n",
    "net = LeNet().float()"
   ]
  },
  {
   "cell_type": "code",
   "execution_count": 8,
   "metadata": {},
   "outputs": [
    {
     "data": {
      "application/vnd.jupyter.widget-view+json": {
       "model_id": "2a0dcffdad334191823cbcbc63e026bd",
       "version_major": 2,
       "version_minor": 0
      },
      "text/plain": [
       "  0%|          | 0/20 [00:00<?, ?it/s]"
      ]
     },
     "metadata": {},
     "output_type": "display_data"
    },
    {
     "name": "stdout",
     "output_type": "stream",
     "text": [
      "acc train: 0.9045454545454545 acc test: 0.995475113122172\n",
      "acc train: 0.9075757575757576 acc test: 1.0\n",
      "acc train: 0.9090909090909091 acc test: 1.0\n",
      "acc train: 0.9075757575757576 acc test: 1.0\n",
      "acc train: 0.9090909090909091 acc test: 1.0\n",
      "acc train: 0.9090909090909091 acc test: 1.0\n",
      "acc train: 0.9090909090909091 acc test: 1.0\n",
      "acc train: 0.9090909090909091 acc test: 1.0\n",
      "acc train: 0.9090909090909091 acc test: 1.0\n",
      "acc train: 0.9090909090909091 acc test: 1.0\n",
      "acc train: 0.9090909090909091 acc test: 1.0\n",
      "acc train: 0.9090909090909091 acc test: 1.0\n",
      "acc train: 0.9090909090909091 acc test: 1.0\n",
      "acc train: 0.9090909090909091 acc test: 1.0\n",
      "acc train: 0.9090909090909091 acc test: 1.0\n",
      "acc train: 0.9090909090909091 acc test: 1.0\n",
      "acc train: 0.9090909090909091 acc test: 1.0\n",
      "acc train: 0.9090909090909091 acc test: 1.0\n",
      "acc train: 0.9090909090909091 acc test: 1.0\n",
      "acc train: 0.9090909090909091 acc test: 1.0\n"
     ]
    }
   ],
   "source": [
    "import pandas as pd\n",
    "\n",
    "tbatch = 100\n",
    "nb_epochs = 20\n",
    "\n",
    "nbbatchs = int(X_train.shape[0]/tbatch)\n",
    "\n",
    "criterion = nn.CrossEntropyLoss()\n",
    "optimizer = torch.optim.Adam(net.parameters(), lr=0.01)\n",
    "\n",
    "net.train()\n",
    "\n",
    "def evaluate(X_test):\n",
    "    net.eval()\n",
    "    with torch.no_grad():\n",
    "        y_pred = net(X_test)\n",
    "    correct_test = (torch.argmax(y_pred, axis=1) == y_test).sum().item()\n",
    "    net.train()\n",
    "    return correct_test/len(X_test)\n",
    "\n",
    "for epoch in tqdm(range(nb_epochs)):  # loop over the dataset multiple times\n",
    "    correct = 0\n",
    "    for i in (range(nbbatchs)):\n",
    "        \n",
    "        optimizer.zero_grad()\n",
    "        \n",
    "        X_batch = X_train[i*tbatch:(i+1)*tbatch]\n",
    "        y_batch = y_train[i*tbatch:(i+1)*tbatch]\n",
    "\n",
    "        # Compute forward / backward\n",
    "        y_pred = net(X_batch)\n",
    "        correct += (torch.argmax(y_pred, axis=1) == y_batch).sum().item()\n",
    "\n",
    "        loss = criterion(y_pred, y_batch)\n",
    "        \n",
    "\n",
    "        loss.backward()\n",
    "        optimizer.step()\n",
    "        # break\n",
    "    print(\"acc train:\", correct/X_train.shape[0], \"acc test:\", evaluate(X_test))\n",
    "\n",
    "\n"
   ]
  },
  {
   "cell_type": "code",
   "execution_count": 7,
   "metadata": {},
   "outputs": [
    {
     "data": {
      "image/png": "[encoded data removed]",
      "text/plain": [
       "<Figure size 640x480 with 1 Axes>"
      ]
     },
     "metadata": {},
     "output_type": "display_data"
    },
    {
     "name": "stdout",
     "output_type": "stream",
     "text": [
      "1\n",
      "\n"
     ]
    },
    {
     "data": {
      "image/png": "[encoded data removed]",
      "text/plain": [
       "<Figure size 640x480 with 1 Axes>"
      ]
     },
     "metadata": {},
     "output_type": "display_data"
    },
    {
     "name": "stdout",
     "output_type": "stream",
     "text": [
      "1\n",
      "\n"
     ]
    }
   ],
   "source": [
    "import matplotlib.pyplot as plt\n",
    "\n",
    "for i in range(2):\n",
    "    plt.imshow(X_labeled[i, 0])\n",
    "    plt.show()\n",
    "    print(y_labeled[i])\n",
    "    print(\"\")"
   ]
  },
  {
   "cell_type": "code",
   "execution_count": 17,
   "metadata": {},
   "outputs": [
    {
     "name": "stdout",
     "output_type": "stream",
     "text": [
      "torch.Size([221, 10])\n"
     ]
    }
   ],
   "source": [
    "net.train()\n",
    "with torch.no_grad():\n",
    "    y_pred = net(X_test)\n",
    "\n",
    "\n",
    "print(y_pred.shape)\n",
    "pred = torch.argmax(y_pred, dim=1)\n",
    "\n",
    "pred = pred.numpy()\n",
    "df = pd.DataFrame(pred)\n",
    "df.to_csv(\"example_submission.csv\", header=False, index=False)"
   ]
  },
  {
   "cell_type": "code",
   "execution_count": null,
   "metadata": {},
   "outputs": [],
   "source": []
  }
 ],
 "metadata": {
  "interpreter": {
   "hash": "42b2a254b437d073428198f9d7f7f7b39e947fe8479260fb8edd61ecc9f401a1"
  },
  "kernelspec": {
   "display_name": "Python 3.7.13 ('hackathon42')",
   "language": "python",
   "name": "python3"
  },
  "language_info": {
   "codemirror_mode": {
    "name": "ipython",
    "version": 3
   },
   "file_extension": ".py",
   "mimetype": "text/x-python",
   "name": "python",
   "nbconvert_exporter": "python",
   "pygments_lexer": "ipython3",
   "version": "3.7.13"
  },
  "orig_nbformat": 4
 },
 "nbformat": 4,
 "nbformat_minor": 2
}
